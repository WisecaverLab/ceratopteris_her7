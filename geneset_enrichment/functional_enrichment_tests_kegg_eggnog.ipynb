{
 "cells": [
  {
   "cell_type": "code",
   "execution_count": 2,
   "id": "4b9b5b3c",
   "metadata": {},
   "outputs": [],
   "source": [
    "from scipy.stats import hypergeom\n",
    "import statsmodels.stats.multitest as multi\n",
    "import pandas as pd\n",
    "import os\n",
    "import glob\n",
    "import requests\n"
   ]
  },
  {
   "cell_type": "code",
   "execution_count": 13,
   "id": "4fcbc009",
   "metadata": {},
   "outputs": [],
   "source": [
    "degfiles = ['../../../her7/10_gene_exp/gene_expression_jen_local/10_gene_exp/burow_de_results_her19_v_herm_lfc1.txt',\n",
    "            '../../../her7/10_gene_exp/gene_expression_jen_local/10_gene_exp/burow_de_results_male_v_her19_lfc1.txt',\n",
    "            '../../../her7/10_gene_exp/gene_expression_jen_local/10_gene_exp/burow_de_results_male_v_herm_lfc1.txt']"
   ]
  },
  {
   "cell_type": "code",
   "execution_count": 14,
   "id": "8f7f4808",
   "metadata": {},
   "outputs": [],
   "source": [
    "annfile = '../../../her7/02_functional_annotations/eggnog_annotations.txt'\n",
    "outfile = '../../../her7/11_kegg_enrichment/functional_enrichment_results_KEGG_wminexp_lfc1.txt'\n",
    "keggfile = '../../../../dbs/kegg/KEGG_KO_ALL_PARENTS_Jun-30-2024.txt'"
   ]
  },
  {
   "cell_type": "code",
   "execution_count": 15,
   "id": "bfe0fd0b",
   "metadata": {},
   "outputs": [],
   "source": [
    "# min/max thresholds for tests\n",
    "highCount = 10000000\n",
    "lowCount = 5\n",
    "\n",
    "min_exp_thres = 3\n",
    "de_lfc_thres = 1\n",
    "de_padj_thres = 0.1"
   ]
  },
  {
   "cell_type": "markdown",
   "id": "70ce9124",
   "metadata": {},
   "source": [
    "# Initialize set dictionaries"
   ]
  },
  {
   "cell_type": "code",
   "execution_count": 16,
   "id": "bc130c87",
   "metadata": {},
   "outputs": [],
   "source": [
    "degsets = {}\n",
    "expset = set()\n",
    "\n",
    "for degfile in degfiles:\n",
    "    #print(degfile)\n",
    "    comparison = degfile.split('burow_de_results_')[1].split('_lfc1.txt')[0]\n",
    "    #print(comparison)\n",
    "    degsets[comparison + '_up'] = set()\n",
    "    degsets[comparison + '_down'] = set()\n",
    "    \n",
    "    df = pd.read_csv(degfile, sep='\\t', index_col=0)\n",
    "    df.index.name = 'gene_id'\n",
    "    #df\n",
    "    \n",
    "    # Filter rows based on conditions\n",
    "    exp_df = df[(df['baseMean'] >= min_exp_thres)]\n",
    "    de_up_df = df[(df['log2FoldChange'] > de_lfc_thres) & (df['padj'] < de_padj_thres)]\n",
    "    de_down_df = df[(df['log2FoldChange'] < de_lfc_thres * -1) & (df['padj'] < de_padj_thres)]\n",
    "    #print(de_up_df.loc[de_up_df['baseMean'].idxmin()])\n",
    "    #print(de_down_df.loc[de_down_df['baseMean'].idxmin()])\n",
    "\n",
    "    # Extract gene_id column as Python list\n",
    "    for gene in exp_df.index.tolist():\n",
    "        #print(gene)\n",
    "        expset.add(gene)\n",
    "\n",
    "    for gene in de_up_df.index.tolist():\n",
    "        #print(gene)\n",
    "        degsets[comparison + '_up'].add(gene)\n",
    "        \n",
    "    for gene in de_down_df.index.tolist():\n",
    "        #print(gene)\n",
    "        degsets[comparison + '_down'].add(gene)\n"
   ]
  },
  {
   "cell_type": "code",
   "execution_count": 17,
   "id": "25e987f3",
   "metadata": {},
   "outputs": [
    {
     "data": {
      "text/plain": [
       "29839"
      ]
     },
     "execution_count": 17,
     "metadata": {},
     "output_type": "execute_result"
    }
   ],
   "source": [
    "# genes in Ceratopteris with min baseMean >= threshold (3)\n",
    "len(expset)"
   ]
  },
  {
   "cell_type": "code",
   "execution_count": 18,
   "id": "1f850907",
   "metadata": {},
   "outputs": [
    {
     "name": "stdout",
     "output_type": "stream",
     "text": [
      "36857\r\n"
     ]
    }
   ],
   "source": [
    "# total genes in Ceratopteris\n",
    "! grep -v baseMean {degfile} | wc -l"
   ]
  },
  {
   "cell_type": "code",
   "execution_count": 19,
   "id": "813dc389",
   "metadata": {},
   "outputs": [
    {
     "name": "stdout",
     "output_type": "stream",
     "text": [
      "Number of genes in each DEG set:\n",
      "her19_v_herm_up 44\n",
      "her19_v_herm_down 1422\n",
      "male_v_her19_up 4727\n",
      "male_v_her19_down 3754\n",
      "male_v_herm_up 3464\n",
      "male_v_herm_down 3087\n"
     ]
    }
   ],
   "source": [
    "# initialize remaining data structures\n",
    "isaDict = {}\n",
    "keggDesc = {}\n",
    "keggOrder = {}\n",
    "\n",
    "codeDict = {}\n",
    "codeDict['total'] = {}\n",
    "lociDict = {}\n",
    "lociDict['total'] = set()\n",
    "\n",
    "print('Number of genes in each DEG set:')\n",
    "for degset in degsets:\n",
    "    print(degset, len(degsets[degset]))\n",
    "    codeDict[degset] = {}\n",
    "    lociDict[degset] = set()"
   ]
  },
  {
   "cell_type": "markdown",
   "id": "36da0aef",
   "metadata": {},
   "source": [
    "# Load KEGG relationships"
   ]
  },
  {
   "cell_type": "code",
   "execution_count": 20,
   "id": "42ee4224",
   "metadata": {},
   "outputs": [],
   "source": [
    "#! head {keggfile}"
   ]
  },
  {
   "cell_type": "code",
   "execution_count": 21,
   "id": "3cff47eb",
   "metadata": {},
   "outputs": [],
   "source": [
    "fi = open(keggfile)\n",
    "\n",
    "for line in fi:\n",
    "    currentParents = set()\n",
    "    line = line.rstrip().split('\\t')\n",
    "    currentID = line.pop(0).split(':')[0]\n",
    "    #print(currentID, line)\n",
    "    \n",
    "    for parent in line:\n",
    "        currentParents.add(parent)\n",
    "        \n",
    "    #print(currentID, currentParents)\n",
    "    if len(currentParents) == 0:\n",
    "        continue\n",
    "    else:\n",
    "        isaDict[currentID] = currentParents\n",
    "\n",
    "fi.close()\n",
    "\n",
    "descfiles = os.path.realpath(keggfile)\n",
    "descfiles = os.path.split(descfiles)[0] + '/*DESC_Jun-30-2024.txt'\n",
    "\n",
    "for infile in glob.glob(descfiles):\n",
    "    #print(infile)\n",
    "    fi = open(infile)\n",
    "    \n",
    "    for line in fi:\n",
    "        term, desc = line.rstrip().split('\\t')\n",
    "        #print(term, desc)\n",
    "        keggDesc[term] = desc\n",
    "    \n",
    "    fi.close()\n"
   ]
  },
  {
   "cell_type": "code",
   "execution_count": 22,
   "id": "8841fabf",
   "metadata": {},
   "outputs": [],
   "source": [
    "brite_url = 'http://rest.kegg.jp/get/br:br08901'\n",
    "resp = requests.get(brite_url)\n",
    "\n",
    "catA = ''\n",
    "catB = ''\n",
    "\n",
    "order = 0\n",
    "\n",
    "for line in resp.text.split('\\n'):\n",
    "    order += 1\n",
    "    cat = ''\n",
    "    \n",
    "    if len(line) == 0:\n",
    "        continue\n",
    "        \n",
    "    if line[0] == '+' or line[0] == '!' or line[0] == '#':\n",
    "        continue\n",
    "    #print(line)\n",
    "    \n",
    "    if line[0] == 'A':\n",
    "        catA = line[1:]\n",
    "        cat = catA\n",
    "\n",
    "    if catA == 'Organismal Systems' or catA == 'Human Diseases' or catA == 'Drug Development':\n",
    "        continue\n",
    "\n",
    "    if line[0] == 'B':\n",
    "        catB = line[3:]\n",
    "        cat = catB\n",
    "        #print(catB)\n",
    "        \n",
    "    if catB == 'Global and overview maps':\n",
    "        continue\n",
    "    \n",
    "    if line[0] == 'C':\n",
    "        cat = 'map' + line[5:10]\n",
    "\n",
    "    \n",
    "    #print(cat, order)\n",
    "    keggOrder[cat] = order\n"
   ]
  },
  {
   "cell_type": "markdown",
   "id": "131a02b4",
   "metadata": {},
   "source": [
    "# Parse keggs in annotation file"
   ]
  },
  {
   "cell_type": "code",
   "execution_count": 23,
   "id": "5eeda196",
   "metadata": {},
   "outputs": [],
   "source": [
    "#! head -6 {annfile}"
   ]
  },
  {
   "cell_type": "code",
   "execution_count": 24,
   "id": "ec048e5e",
   "metadata": {},
   "outputs": [],
   "source": [
    "fi = open(annfile)\n",
    "\n",
    "for line in fi:\n",
    "    if line[0] == '#':\n",
    "        continue\n",
    "        \n",
    "    col = line.rstrip().split('\\t')\n",
    "    locus = 'Ceric.' + col[0].split('.')[1]\n",
    "    \n",
    "    # skip if locus is not expressed\n",
    "    if locus not in expset:\n",
    "        #print('skipping ', locus, ' not expressed')\n",
    "        continue\n",
    "    \n",
    "    returnedparents = ''\n",
    "        \n",
    "    keggcol = col[11].split(',')\n",
    "    #print(locus, keggcol)\n",
    "    \n",
    "    if keggcol == ['-']:\n",
    "        continue\n",
    "    keggSet = set()\n",
    "    \n",
    "    for kegg in keggcol:\n",
    "        kegg = kegg.split(':')[1]\n",
    "        #print(kegg)\n",
    "\n",
    "        if kegg in isaDict:\n",
    "            returnedparents = isaDict[kegg]\n",
    "\n",
    "            for parent in returnedparents:\n",
    "                if parent not in keggOrder:\n",
    "                    continue\n",
    "                #skip if parent is a Pathway and not a higher level category\n",
    "                #if parent.startswith('map'):\n",
    "                    #continue\n",
    "\n",
    "                keggSet.add(parent)\n",
    "\n",
    "    #print(locus, keggSet)\n",
    "    \n",
    "    for kegg in keggSet:\n",
    "        #print(kegg)\n",
    "        if kegg not in codeDict['total']:\n",
    "            codeDict['total'][kegg] = set()\n",
    "\n",
    "        codeDict['total'][kegg].add(locus)\n",
    "        lociDict['total'].add(locus)    \n",
    "\n",
    "        for degset in degsets:\n",
    "            #print(degset)\n",
    "            if locus in degsets[degset]:\n",
    "    \n",
    "                if kegg not in codeDict[degset]:\n",
    "                    codeDict[degset][kegg] = set()\n",
    "\n",
    "                codeDict[degset][kegg].add(locus)\n",
    "                lociDict[degset].add(locus)\n",
    "\n",
    "fi.close()"
   ]
  },
  {
   "cell_type": "code",
   "execution_count": 25,
   "id": "889dd0c2",
   "metadata": {},
   "outputs": [],
   "source": [
    "####################################\n",
    "### Perform hypergeometric tests ###\n",
    "####################################\n",
    "\n",
    "df = pd.DataFrame(columns=['set','kegg','order','x','N','n','M','pval','genelist','kegglist'])\n",
    "kegglist = ''\n",
    "\n",
    "for degset in degsets:\n",
    "    for kegg in codeDict[degset]:\n",
    "\n",
    "        count = len(codeDict[degset][kegg])\n",
    "        if count > highCount or count < lowCount:\n",
    "            continue\n",
    "\n",
    "        # x is the number of drawn \"successes\" (ie no. genes in degset and in kegg category)\n",
    "        x = len(codeDict[degset][kegg])\n",
    "        genelist = ', '.join(codeDict[degset][kegg])\n",
    "\n",
    "        # N is the sample size (ie no. genes in degset)\n",
    "        N = len(lociDict[degset])\n",
    "\n",
    "        # n is the number of successes in the population (ie no. genes in kegg category [skipping genes not expressed])\n",
    "        n = len(codeDict['total'][kegg])\n",
    "\n",
    "        # M is the population size (ie no. genes total in any kegg category [skipping genes not expressed])\n",
    "        M = len(lociDict['total'])\n",
    "\n",
    "        # https://alexlenail.medium.com/understanding-and-implementing-the-hypergeometric-test-in-python-a7db688a7458\n",
    "        # https://github.com/jdrudolph/goenrich\n",
    "        pval = hypergeom.sf(x-1, M, n, N)\n",
    "\n",
    "        order = keggOrder[kegg]\n",
    "\n",
    "        if kegg in keggDesc:\n",
    "            desc = keggDesc[kegg]\n",
    "            kegg = kegg + ' - ' + desc\n",
    "\n",
    "        df.loc[len(df.index)] = [degset,kegg,order,x,N,n,M,pval,genelist,kegglist]  \n"
   ]
  },
  {
   "cell_type": "code",
   "execution_count": 26,
   "id": "a878c5ca",
   "metadata": {},
   "outputs": [],
   "source": [
    "#########################################\n",
    "### Adjust pvalues for multiple tests ###\n",
    "#########################################\n",
    "if len(df['pval'].tolist()) > 0:\n",
    "    adjpval = multi.multipletests(df['pval'].tolist(), alpha=0.05, method='fdr_bh', is_sorted=False, returnsorted=False)[1]\n",
    "    df['adjpval'] = adjpval\n",
    "    df['seqfreq'] = df['x'] / df['N']\n",
    "    df['totalfreq'] = df['n'] / df['M']\n",
    "\n",
    "    df = df[['set','kegg','order','x','N','seqfreq','n','M','totalfreq','pval','adjpval','genelist','kegglist']]\n",
    "\n",
    "    df.to_csv(outfile, sep='\\t', index=False)\n"
   ]
  },
  {
   "cell_type": "code",
   "execution_count": null,
   "id": "71910302",
   "metadata": {},
   "outputs": [],
   "source": []
  }
 ],
 "metadata": {
  "kernelspec": {
   "display_name": "Python (My env.genomics Kernel)",
   "language": "python",
   "name": "env.genomics"
  },
  "language_info": {
   "codemirror_mode": {
    "name": "ipython",
    "version": 3
   },
   "file_extension": ".py",
   "mimetype": "text/x-python",
   "name": "python",
   "nbconvert_exporter": "python",
   "pygments_lexer": "ipython3",
   "version": "3.6.10"
  }
 },
 "nbformat": 4,
 "nbformat_minor": 5
}
