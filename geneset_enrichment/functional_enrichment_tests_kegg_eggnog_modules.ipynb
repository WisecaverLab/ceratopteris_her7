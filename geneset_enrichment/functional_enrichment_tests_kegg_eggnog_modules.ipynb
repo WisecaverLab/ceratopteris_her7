{
 "cells": [
  {
   "cell_type": "code",
   "execution_count": 1,
   "id": "4b9b5b3c",
   "metadata": {},
   "outputs": [],
   "source": [
    "from scipy.stats import hypergeom\n",
    "import statsmodels.stats.multitest as multi\n",
    "import pandas as pd\n",
    "import os\n",
    "import glob\n",
    "import requests\n"
   ]
  },
  {
   "cell_type": "code",
   "execution_count": 2,
   "id": "4fcbc009",
   "metadata": {},
   "outputs": [],
   "source": [
    "degfiles = ['../../../her7/10_gene_exp/gene_expression_jen_local/10_gene_exp/burow_de_results_her19_v_herm.txt',\n",
    "            '../../../her7/10_gene_exp/gene_expression_jen_local/10_gene_exp/burow_de_results_male_v_her19.txt',\n",
    "            '../../../her7/10_gene_exp/gene_expression_jen_local/10_gene_exp/burow_de_results_male_v_herm.txt']"
   ]
  },
  {
   "cell_type": "code",
   "execution_count": 3,
   "id": "8f7f4808",
   "metadata": {},
   "outputs": [],
   "source": [
    "annfile = '../../../her7/02_functional_annotations/eggnog_annotations.txt'\n",
    "outfile = '../../../her7/11_kegg_enrichment/functional_enrichment_results_KEGG_modules_wminexp.txt'\n",
    "keggfile = '../../../../dbs/kegg/KEGG_MODULE_to_KO_Jun-30-2024.txt'"
   ]
  },
  {
   "cell_type": "code",
   "execution_count": 4,
   "id": "bfe0fd0b",
   "metadata": {},
   "outputs": [],
   "source": [
    "# min/max thresholds for tests\n",
    "highCount = 10000000\n",
    "lowCount = 2\n",
    "\n",
    "min_exp_thres = 3\n",
    "de_lfc_thres = 0.58\n",
    "de_padj_thres = 0.1"
   ]
  },
  {
   "cell_type": "markdown",
   "id": "70ce9124",
   "metadata": {},
   "source": [
    "# Initialize set dictionaries"
   ]
  },
  {
   "cell_type": "code",
   "execution_count": 5,
   "id": "bc130c87",
   "metadata": {},
   "outputs": [
    {
     "name": "stdout",
     "output_type": "stream",
     "text": [
      "Ceric.05G026200 male_v_her19\n",
      "Ceric.05G026200 male_v_herm\n"
     ]
    }
   ],
   "source": [
    "degsets = {}\n",
    "expset = set()\n",
    "\n",
    "for degfile in degfiles:\n",
    "    #print(degfile)\n",
    "    comparison = degfile.split('burow_de_results_')[1].split('.txt')[0]\n",
    "    #print(comparison)\n",
    "    degsets[comparison + '_up'] = set()\n",
    "    degsets[comparison + '_down'] = set()\n",
    "    \n",
    "    df = pd.read_csv(degfile, sep='\\t', index_col=0)\n",
    "    df.index.name = 'gene_id'\n",
    "    #df\n",
    "    \n",
    "    # Filter rows based on conditions\n",
    "    exp_df = df[(df['baseMean'] >= min_exp_thres)]\n",
    "    de_up_df = df[(df['log2FoldChange'] > de_lfc_thres) & (df['padj'] < de_padj_thres)]\n",
    "    de_down_df = df[(df['log2FoldChange'] < de_lfc_thres * -1) & (df['padj'] < de_padj_thres)]\n",
    "    #print(de_up_df.loc[de_up_df['baseMean'].idxmin()])\n",
    "    #print(de_down_df.loc[de_down_df['baseMean'].idxmin()])\n",
    "\n",
    "    # Extract gene_id column as Python list\n",
    "    for gene in exp_df.index.tolist():\n",
    "        #print(gene)\n",
    "        expset.add(gene)\n",
    "\n",
    "    for gene in de_up_df.index.tolist():\n",
    "        degsets[comparison + '_up'].add(gene)\n",
    "        \n",
    "    for gene in de_down_df.index.tolist():\n",
    "        if gene == 'Ceric.05G026200':\n",
    "            print(gene, comparison)\n",
    "        degsets[comparison + '_down'].add(gene)\n"
   ]
  },
  {
   "cell_type": "code",
   "execution_count": 6,
   "id": "25e987f3",
   "metadata": {},
   "outputs": [
    {
     "data": {
      "text/plain": [
       "29839"
      ]
     },
     "execution_count": 6,
     "metadata": {},
     "output_type": "execute_result"
    }
   ],
   "source": [
    "# genes in Ceratopteris with min baseMean >= threshold (3)\n",
    "len(expset)"
   ]
  },
  {
   "cell_type": "code",
   "execution_count": 7,
   "id": "1f850907",
   "metadata": {},
   "outputs": [
    {
     "name": "stdout",
     "output_type": "stream",
     "text": [
      "36857\r\n"
     ]
    }
   ],
   "source": [
    "# total genes in Ceratopteris\n",
    "! grep -v baseMean {degfile} | wc -l"
   ]
  },
  {
   "cell_type": "code",
   "execution_count": 8,
   "id": "813dc389",
   "metadata": {},
   "outputs": [
    {
     "name": "stdout",
     "output_type": "stream",
     "text": [
      "Number of genes in each DEG set:\n",
      "her19_v_herm_up 209\n",
      "her19_v_herm_down 1982\n",
      "male_v_her19_up 6222\n",
      "male_v_her19_down 5568\n",
      "male_v_herm_up 4868\n",
      "male_v_herm_down 4885\n"
     ]
    }
   ],
   "source": [
    "# initialize remaining data structures\n",
    "isaDict = {}\n",
    "keggDesc = {}\n",
    "keggOrder = {}\n",
    "\n",
    "codeDict = {}\n",
    "codeDict['total'] = {}\n",
    "lociDict = {}\n",
    "lociDict['total'] = set()\n",
    "\n",
    "print('Number of genes in each DEG set:')\n",
    "for degset in degsets:\n",
    "    print(degset, len(degsets[degset]))\n",
    "    codeDict[degset] = {}\n",
    "    lociDict[degset] = set()"
   ]
  },
  {
   "cell_type": "markdown",
   "id": "36da0aef",
   "metadata": {},
   "source": [
    "# Store KEGG descriptions"
   ]
  },
  {
   "cell_type": "code",
   "execution_count": 9,
   "id": "8841fabf",
   "metadata": {},
   "outputs": [
    {
     "name": "stdout",
     "output_type": "stream",
     "text": [
      "M00371 Castasterone biosynthesis, campesterol => castasterone\n"
     ]
    }
   ],
   "source": [
    "fi = open(keggfile)\n",
    "\n",
    "for line in fi:\n",
    "    if len(line.rstrip().split('\\t')) == 2:\n",
    "        mod, kos = line.rstrip().split('\\t')\n",
    "\n",
    "        for ko in kos.split(','):\n",
    "            if ko not in isaDict:\n",
    "                isaDict[ko] = set()\n",
    "            isaDict[ko].add(mod)\n",
    "            #print(ko, mod)\n",
    "\n",
    "fi.close()\n",
    "\n",
    "\n",
    "\n",
    "mod_list_url = 'http://rest.kegg.jp/list/module'\n",
    "modDict = {}\n",
    "\n",
    "resp = requests.get(mod_list_url)\n",
    "for line in resp.text.split('\\n'):\n",
    "    #print(line)\n",
    "    col = line.split('\\t')\n",
    "    if len(col) != 2:\n",
    "        continue\n",
    "        \n",
    "    mod = line.split('\\t')[0]\n",
    "    modDesc = line.split('\\t')[1]\n",
    "    modDict[mod] = modDesc\n",
    "    \n",
    "    if mod == 'M00371':\n",
    "        print(mod,modDesc)\n",
    "    \n"
   ]
  },
  {
   "cell_type": "markdown",
   "id": "131a02b4",
   "metadata": {},
   "source": [
    "# Parse keggs in annotation file"
   ]
  },
  {
   "cell_type": "code",
   "execution_count": 10,
   "id": "5eeda196",
   "metadata": {},
   "outputs": [],
   "source": [
    "#! head -6 {annfile}"
   ]
  },
  {
   "cell_type": "code",
   "execution_count": 11,
   "id": "ec048e5e",
   "metadata": {},
   "outputs": [],
   "source": [
    "fi = open(annfile)\n",
    "\n",
    "for line in fi:\n",
    "    if line[0] == '#':\n",
    "        continue\n",
    "        \n",
    "    col = line.rstrip().split('\\t')\n",
    "    locus = 'Ceric.' + col[0].split('.')[1]\n",
    "    \n",
    "    # skip if locus is not expressed\n",
    "    if locus not in expset:\n",
    "        #print('skipping ', locus, ' not expressed')\n",
    "        continue\n",
    "    \n",
    "    returnedparents = ''\n",
    "        \n",
    "    keggcol = col[11].split(',')\n",
    "    #print(locus, keggcol)\n",
    "    \n",
    "    if keggcol == ['-']:\n",
    "        continue\n",
    "    keggSet = set()\n",
    "    \n",
    "    for kegg in keggcol:\n",
    "        kegg = kegg.split(':')[1]\n",
    "        #print(kegg)\n",
    "\n",
    "        if kegg in isaDict:\n",
    "            returnedparents = isaDict[kegg]\n",
    "\n",
    "            for parent in returnedparents:\n",
    "                keggSet.add(parent)\n",
    "\n",
    "                \n",
    "    for kegg in keggSet:\n",
    "            \n",
    "        if kegg not in codeDict['total']:\n",
    "            codeDict['total'][kegg] = set()\n",
    "\n",
    "        codeDict['total'][kegg].add(locus)\n",
    "        lociDict['total'].add(locus)    \n",
    "\n",
    "        for degset in degsets:\n",
    "            #print(degset)\n",
    "            if locus in degsets[degset]:\n",
    "    \n",
    "                if kegg not in codeDict[degset]:\n",
    "                    codeDict[degset][kegg] = set()\n",
    "\n",
    "                codeDict[degset][kegg].add(locus)\n",
    "                lociDict[degset].add(locus)\n",
    "                \n",
    "#                 if kegg == 'M00371':\n",
    "#                     print(kegg, locus, modDict[kegg])\n",
    "\n",
    "fi.close()"
   ]
  },
  {
   "cell_type": "code",
   "execution_count": 12,
   "id": "889dd0c2",
   "metadata": {},
   "outputs": [],
   "source": [
    "####################################\n",
    "### Perform hypergeometric tests ###\n",
    "####################################\n",
    "\n",
    "df = pd.DataFrame(columns=['set','kegg','x','N','n','M','pval','genelist','kegglist'])\n",
    "kegglist = ''\n",
    "\n",
    "for degset in degsets:\n",
    "    for kegg in codeDict[degset]:\n",
    "\n",
    "        count = len(codeDict[degset][kegg])\n",
    "        if count > highCount or count < lowCount:\n",
    "            continue\n",
    "\n",
    "        # x is the number of drawn \"successes\" (ie no. genes in degset and in kegg category)\n",
    "        x = len(codeDict[degset][kegg])\n",
    "        genelist = ', '.join(codeDict[degset][kegg])\n",
    "\n",
    "        # N is the sample size (ie no. genes in degset)\n",
    "        N = len(lociDict[degset])\n",
    "\n",
    "        # n is the number of successes in the population (ie no. genes in kegg category [skipping genes not expressed])\n",
    "        n = len(codeDict['total'][kegg])\n",
    "\n",
    "        # M is the population size (ie no. genes total in any kegg category [skipping genes not expressed])\n",
    "        M = len(lociDict['total'])\n",
    "\n",
    "        # https://alexlenail.medium.com/understanding-and-implementing-the-hypergeometric-test-in-python-a7db688a7458\n",
    "        # https://github.com/jdrudolph/goenrich\n",
    "        pval = hypergeom.sf(x-1, M, n, N)\n",
    "\n",
    "        if kegg in modDict:\n",
    "            desc = modDict[kegg]\n",
    "            kegg = kegg + ' - ' + desc\n",
    "\n",
    "        df.loc[len(df.index)] = [degset,kegg,x,N,n,M,pval,genelist,kegglist]  \n"
   ]
  },
  {
   "cell_type": "code",
   "execution_count": 13,
   "id": "023e7485",
   "metadata": {},
   "outputs": [],
   "source": [
    "#codeDict[degset]['M00371']"
   ]
  },
  {
   "cell_type": "code",
   "execution_count": 14,
   "id": "a878c5ca",
   "metadata": {},
   "outputs": [],
   "source": [
    "#########################################\n",
    "### Adjust pvalues for multiple tests ###\n",
    "#########################################\n",
    "if len(df['pval'].tolist()) > 0:\n",
    "    adjpval = multi.multipletests(df['pval'].tolist(), alpha=0.05, method='fdr_bh', is_sorted=False, returnsorted=False)[1]\n",
    "    df['adjpval'] = adjpval\n",
    "    df['seqfreq'] = df['x'] / df['N']\n",
    "    df['totalfreq'] = df['n'] / df['M']\n",
    "\n",
    "    df = df[['set','kegg','x','N','seqfreq','n','M','totalfreq','pval','adjpval','genelist','kegglist']]\n",
    "\n",
    "    df.to_csv(outfile, sep='\\t', index=False)\n"
   ]
  },
  {
   "cell_type": "code",
   "execution_count": null,
   "id": "71910302",
   "metadata": {},
   "outputs": [],
   "source": []
  }
 ],
 "metadata": {
  "kernelspec": {
   "display_name": "Python (My env.genomics Kernel)",
   "language": "python",
   "name": "env.genomics"
  },
  "language_info": {
   "codemirror_mode": {
    "name": "ipython",
    "version": 3
   },
   "file_extension": ".py",
   "mimetype": "text/x-python",
   "name": "python",
   "nbconvert_exporter": "python",
   "pygments_lexer": "ipython3",
   "version": "3.6.10"
  }
 },
 "nbformat": 4,
 "nbformat_minor": 5
}
