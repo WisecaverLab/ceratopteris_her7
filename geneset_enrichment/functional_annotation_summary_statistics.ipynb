{
 "cells": [
  {
   "cell_type": "code",
   "execution_count": 1,
   "id": "7e4958d6",
   "metadata": {},
   "outputs": [],
   "source": [
    "import matplotlib\n",
    "from matplotlib_venn import venn3\n",
    "from matplotlib import pyplot as plt\n",
    "import statistics"
   ]
  },
  {
   "cell_type": "code",
   "execution_count": 18,
   "id": "7acb9bd7",
   "metadata": {},
   "outputs": [],
   "source": [
    "# input files\n",
    "afile = '../../../her7/02_functional_annotations/Ceratopteris_KEGG_annotations_by_phylogeny.txt'\n",
    "bfile = '../../../her7/02_functional_annotations/eggnog_annotations.txt'\n",
    "cfile = '../../../her7/02_functional_annotations/kegg_annotations.txt'\n",
    "dfile = '../../../her7/02_functional_annotations/hormone_manual_kegg_annotations.txt'\n",
    "\n",
    "kofamthres = 1"
   ]
  },
  {
   "cell_type": "code",
   "execution_count": 31,
   "id": "c076c402",
   "metadata": {},
   "outputs": [],
   "source": [
    "fi = open(afile)\n",
    "\n",
    "aset = set()\n",
    "\n",
    "for line in fi:\n",
    "    gene, ko = line.rstrip().split('\\t')\n",
    "    #print(gene,ko)\n",
    "    pair = (gene,ko)    \n",
    "    aset.add(pair)\n",
    "\n",
    "fi.close()"
   ]
  },
  {
   "cell_type": "code",
   "execution_count": 32,
   "id": "035b8fe3",
   "metadata": {},
   "outputs": [
    {
     "data": {
      "text/plain": [
       "8223"
      ]
     },
     "execution_count": 32,
     "metadata": {},
     "output_type": "execute_result"
    }
   ],
   "source": [
    "len(aset)"
   ]
  },
  {
   "cell_type": "code",
   "execution_count": 34,
   "id": "24a8fdaa",
   "metadata": {},
   "outputs": [],
   "source": [
    "fi = open(bfile)\n",
    "\n",
    "bset = set()\n",
    "\n",
    "for line in fi:\n",
    "    if line[0] == '#':\n",
    "        continue\n",
    "        \n",
    "    col = line.rstrip().split('\\t')\n",
    "    gene = 'Ceric.' + col[0].split('.')[1]\n",
    "    if col[11] == '-':\n",
    "        continue\n",
    "    kolist = col[11].split(',')\n",
    "    for ko in kolist:\n",
    "        ko = ko.split(':')[1]\n",
    "        #print(gene,ko)\n",
    "        \n",
    "        pair = (gene,ko)    \n",
    "        bset.add(pair)\n",
    "\n",
    "fi.close()"
   ]
  },
  {
   "cell_type": "code",
   "execution_count": 35,
   "id": "d1839d5d",
   "metadata": {},
   "outputs": [
    {
     "data": {
      "text/plain": [
       "15055"
      ]
     },
     "execution_count": 35,
     "metadata": {},
     "output_type": "execute_result"
    }
   ],
   "source": [
    "len(bset)"
   ]
  },
  {
   "cell_type": "code",
   "execution_count": 36,
   "id": "78246e66",
   "metadata": {},
   "outputs": [],
   "source": [
    "fi = open(cfile)\n",
    "\n",
    "cset = set()\n",
    "\n",
    "for line in fi:\n",
    "    if line[0] == '#':\n",
    "        continue\n",
    "        \n",
    "    col = line.rstrip().split('\\t')\n",
    "    gene = 'Ceric.' + col[1].split('.')[1]\n",
    "    ko = col[2]\n",
    "    \n",
    "    if col[4] == '' or col[3] == '':\n",
    "        continue\n",
    "    score = float(col[4]) / float(col[3])\n",
    "    #print(gene,ko)\n",
    "    \n",
    "    if score > kofamthres:\n",
    "        #print(gene,ko,score)\n",
    "    \n",
    "        pair = (gene,ko)    \n",
    "        cset.add(pair)\n",
    "\n",
    "fi.close()"
   ]
  },
  {
   "cell_type": "code",
   "execution_count": 37,
   "id": "d01ae039",
   "metadata": {},
   "outputs": [
    {
     "data": {
      "text/plain": [
       "10429"
      ]
     },
     "execution_count": 37,
     "metadata": {},
     "output_type": "execute_result"
    }
   ],
   "source": [
    "len(cset)"
   ]
  },
  {
   "cell_type": "markdown",
   "id": "6d904bb8",
   "metadata": {},
   "source": [
    "# Calculate agreement between phylogeny based annotations and eggnog and kofamscan\n",
    "\n"
   ]
  },
  {
   "cell_type": "markdown",
   "id": "be270366",
   "metadata": {},
   "source": [
    "### Plot overlap"
   ]
  },
  {
   "cell_type": "code",
   "execution_count": 41,
   "id": "14aad634",
   "metadata": {},
   "outputs": [
    {
     "data": {
      "image/png": "[encoded data removed]",
      "text/plain": [
       "<Figure size 432x288 with 1 Axes>"
      ]
     },
     "metadata": {},
     "output_type": "display_data"
    }
   ],
   "source": [
    "venn3([aset, bset, cset], ('phylogeny', 'eggnog', 'kofamscan'))\n",
    "#matplotlib.pyplot.savefig('figures/annotation_support_venn_diagram.pdf')\n",
    "\n",
    "plt.show()"
   ]
  },
  {
   "cell_type": "code",
   "execution_count": null,
   "id": "b8f1c6f9",
   "metadata": {},
   "outputs": [],
   "source": []
  }
 ],
 "metadata": {
  "kernelspec": {
   "display_name": "Python (My env.genomics Kernel)",
   "language": "python",
   "name": "env.genomics"
  },
  "language_info": {
   "codemirror_mode": {
    "name": "ipython",
    "version": 3
   },
   "file_extension": ".py",
   "mimetype": "text/x-python",
   "name": "python",
   "nbconvert_exporter": "python",
   "pygments_lexer": "ipython3",
   "version": "3.6.10"
  }
 },
 "nbformat": 4,
 "nbformat_minor": 5
}
