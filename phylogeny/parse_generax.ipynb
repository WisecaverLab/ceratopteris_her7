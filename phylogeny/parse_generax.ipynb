{
 "cells": [
  {
   "cell_type": "code",
   "execution_count": 1,
   "id": "0dafba46",
   "metadata": {},
   "outputs": [],
   "source": [
    "import os\n",
    "os.environ['QT_QPA_PLATFORM']='offscreen'\n",
    "\n",
    "import ete3\n",
    "from ete3 import Tree, faces, TreeStyle, PhyloTree, NodeStyle, TextFace, AttrFace, SeqMotifFace"
   ]
  },
  {
   "cell_type": "code",
   "execution_count": 2,
   "id": "f74271f4",
   "metadata": {},
   "outputs": [],
   "source": [
    "OG='CYP90'\n",
    "treefile = '/depot/jwisecav/data/ceratopteris/her7/08_phylogeny/' + OG + '/' + OG + '_generax/results/' + OG + '/geneTree.newick'\n",
    "outfile = '/depot/jwisecav/data/ceratopteris/her7/08_phylogeny/' + OG + '/' + OG + '_generax.treefile'"
   ]
  },
  {
   "cell_type": "code",
   "execution_count": 3,
   "id": "c285b6b3",
   "metadata": {},
   "outputs": [],
   "source": [
    "t = Tree(treefile, format=1)\n",
    "t.unroot()\n",
    "t.write(format=5, outfile=outfile)\n"
   ]
  },
  {
   "cell_type": "code",
   "execution_count": null,
   "id": "16bfb70a",
   "metadata": {},
   "outputs": [],
   "source": []
  },
  {
   "cell_type": "code",
   "execution_count": 5,
   "id": "8070e58e",
   "metadata": {},
   "outputs": [],
   "source": [
    "treefile = '/depot/jwisecav/data/ceratopteris/her7/08_phylogeny/' + OG + '/' + OG + '_generax.contree'\n",
    "outfile = '/depot/jwisecav/data/ceratopteris/her7/08_phylogeny/' + OG + '/' + OG + '.gxr.tree'\n",
    "\n",
    "t = Tree(treefile, format=0)\n",
    "\n",
    "R = t.get_midpoint_outgroup()\n",
    "t.set_outgroup(R)\n",
    "\n",
    "ancestor = t.get_common_ancestor(\"Adc11751_fern_aca\",\"Aspi01Gene28513_fern_asp\")\n",
    "t.set_outgroup(ancestor)\n",
    "\n",
    "t.write(format=0, outfile=outfile)"
   ]
  },
  {
   "cell_type": "code",
   "execution_count": 4,
   "id": "8a033e1d",
   "metadata": {},
   "outputs": [],
   "source": [
    "# treefile = '/depot/jwisecav/data/ceratopteris/her7/08_phylogeny/' + OG + '/' + OG + '_generax.contree'\n",
    "# outfile = '/depot/jwisecav/data/ceratopteris/her7/08_phylogeny/' + OG + '/' + OG + '.gxr.tree'\n",
    "\n",
    "# t = Tree(treefile, format=0)\n",
    "\n",
    "# R = t.get_midpoint_outgroup()\n",
    "# t.set_outgroup(R)\n",
    "\n",
    "# t.write(format=0, outfile=outfile)"
   ]
  },
  {
   "cell_type": "code",
   "execution_count": null,
   "id": "9bb0b882",
   "metadata": {},
   "outputs": [],
   "source": []
  }
 ],
 "metadata": {
  "kernelspec": {
   "display_name": "Python (My env.genomics Kernel)",
   "language": "python",
   "name": "env.genomics"
  },
  "language_info": {
   "codemirror_mode": {
    "name": "ipython",
    "version": 3
   },
   "file_extension": ".py",
   "mimetype": "text/x-python",
   "name": "python",
   "nbconvert_exporter": "python",
   "pygments_lexer": "ipython3",
   "version": "3.6.10"
  }
 },
 "nbformat": 4,
 "nbformat_minor": 5
}
