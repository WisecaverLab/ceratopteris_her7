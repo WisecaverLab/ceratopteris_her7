{
 "cells": [
  {
   "cell_type": "code",
   "execution_count": 25,
   "id": "f9fbad1f",
   "metadata": {},
   "outputs": [],
   "source": [
    "infile = '../../../her7/08_phylogeny/hormone_gene_families/query_genes.txt'\n",
    "ogfile = '../../../fern_phylogenetics/2_orthofinder/Orthogroups/Orthogroups.txt'\n",
    "outfile = '../../../her7/08_phylogeny/hormone_gene_families/orthogroup_list.txt'"
   ]
  },
  {
   "cell_type": "code",
   "execution_count": 26,
   "id": "45244cea",
   "metadata": {},
   "outputs": [],
   "source": [
    "querySet = set()\n",
    "\n",
    "fi = open(infile)\n",
    "\n",
    "for line in fi:\n",
    "    gene = line.split()[0]\n",
    "    #print(gene)\n",
    "    querySet.add(gene)\n",
    "    \n",
    "fi.close()"
   ]
  },
  {
   "cell_type": "code",
   "execution_count": 27,
   "id": "e6d60c65",
   "metadata": {},
   "outputs": [],
   "source": [
    "ogDict = {}\n",
    "fi = open(ogfile)\n",
    "\n",
    "for line in fi:\n",
    "    og, genes = line.rstrip().split(':')\n",
    "    \n",
    "    genelist = genes.split()\n",
    "    for gene in genelist:\n",
    "        gene = gene.split('.')[0].split('_')[0]\n",
    "        \n",
    "        if gene in querySet:\n",
    "            #print(gene,og)\n",
    "            ogDict[gene] = og\n",
    "\n",
    "fi.close()"
   ]
  },
  {
   "cell_type": "code",
   "execution_count": 28,
   "id": "dd152dab",
   "metadata": {},
   "outputs": [],
   "source": [
    "fi = open(infile)\n",
    "fo = open(outfile, 'w')\n",
    "\n",
    "for line in fi:\n",
    "    gene = line.split()[0]\n",
    "    \n",
    "    og = ogDict[gene]\n",
    "    fo.write(og + '\\t' + line)\n",
    "    \n",
    "    #print(og, line)\n",
    "    \n",
    "fi.close()\n",
    "fo.close()"
   ]
  },
  {
   "cell_type": "code",
   "execution_count": null,
   "id": "a554cbed",
   "metadata": {},
   "outputs": [],
   "source": []
  }
 ],
 "metadata": {
  "kernelspec": {
   "display_name": "Python (My env.genomics Kernel)",
   "language": "python",
   "name": "env.genomics"
  },
  "language_info": {
   "codemirror_mode": {
    "name": "ipython",
    "version": 3
   },
   "file_extension": ".py",
   "mimetype": "text/x-python",
   "name": "python",
   "nbconvert_exporter": "python",
   "pygments_lexer": "ipython3",
   "version": "3.6.10"
  }
 },
 "nbformat": 4,
 "nbformat_minor": 5
}
