{
 "cells": [
  {
   "cell_type": "code",
   "execution_count": 16,
   "id": "9b60dccc",
   "metadata": {},
   "outputs": [],
   "source": [
    "import os\n",
    "import os.path\n",
    "from ete3 import Tree"
   ]
  },
  {
   "cell_type": "markdown",
   "id": "6021da58",
   "metadata": {},
   "source": [
    "# Extract Arabidopsis reference KO annotations"
   ]
  },
  {
   "cell_type": "code",
   "execution_count": 17,
   "id": "1ce63a88",
   "metadata": {},
   "outputs": [],
   "source": [
    "athkeggout = '../../../her7/02_functional_annotations/Arabidopsis_KEGG_reference_annotations.txt'\n",
    "bs_threshold = 0"
   ]
  },
  {
   "cell_type": "code",
   "execution_count": 18,
   "id": "10fa002d",
   "metadata": {},
   "outputs": [],
   "source": [
    "# Ath gene ids to ko KEGG terms\n",
    "result = os.popen(\"curl https://rest.kegg.jp/link/ko/ath\").read()\n",
    "\n",
    "fo = open(athkeggout, 'w')\n",
    "fo.write(result)\n",
    "fo.close()\n",
    "\n",
    "koDict = {}\n",
    "lines = result.split('\\n')\n",
    "\n",
    "for line in lines:\n",
    "    #print(line)\n",
    "    if line == '':\n",
    "        continue\n",
    "        \n",
    "    gene = line.split('\\t')[0].split(':')[1]\n",
    "    ko = line.rstrip().split('\\t')[1].split(':')[1]\n",
    "    #print(gene,ko)\n",
    "    \n",
    "    if '+' in ko:\n",
    "        print('Warning:', ko)\n",
    "        continue\n",
    "\n",
    "    koDict[gene] = ko"
   ]
  },
  {
   "cell_type": "code",
   "execution_count": 19,
   "id": "0c5dbcf1",
   "metadata": {},
   "outputs": [
    {
     "name": "stdout",
     "output_type": "stream",
     "text": [
      "Skipping:  K00955+K00957\n",
      "Skipping:  K05859+K05860+K05861\n",
      "Skipping:  K01677+K01678\n",
      "Skipping:  K00087+K13479+K13480\n",
      "Skipping:  K13481+K13482\n",
      "Skipping:  K11177+K11178+K13483\n",
      "Skipping:  K00087+K13479+K13480\n",
      "Skipping:  K13481+K13482\n",
      "Skipping:  K11177+K11178+K13483\n",
      "Skipping:  K00087+K13479+K13480\n",
      "Skipping:  K13481+K13482\n",
      "Skipping:  K11177+K11178+K13483\n",
      "Skipping:  K11204+K11205\n",
      "Skipping:  K00282+K00283\n",
      "Skipping:  K01955+K01956\n",
      "Skipping:  K00609+K00610\n",
      "Skipping:  K00166+K00167\n"
     ]
    }
   ],
   "source": [
    "koFriends = {}\n",
    "\n",
    "#list of all ath KEGG modules (to pair orthologous ko terms together)\n",
    "# eg K12638 and K12637 in M00371\n",
    "result = os.popen(\"curl https://rest.kegg.jp/link/module/ath\").read()\n",
    "lines = result.split('\\n')\n",
    "\n",
    "modSet = set()\n",
    "for line in lines:\n",
    "    mod = line.rstrip().split('_')[-1]\n",
    "    #print(mod)\n",
    "    modSet.add(mod)\n",
    "    \n",
    "for mod in modSet:\n",
    "    #print(mod)\n",
    "    if mod == '':\n",
    "        continue\n",
    "    modres = os.popen(\"curl https://rest.kegg.jp/get/\" + mod ).read()\n",
    "    #print(modres)\n",
    "    \n",
    "    orthologs = modres.split('ORTHOLOGY  ')[1].split('CLASS  ')[0]\n",
    "    for line in orthologs.split('\\n'):\n",
    "        if line == '':\n",
    "            continue\n",
    "\n",
    "        kolist = line.split()[0].split(',')\n",
    "\n",
    "        if len(kolist) > 1:\n",
    "            koset = set()\n",
    "            \n",
    "            for ko in kolist:\n",
    "                if '+' not in ko:\n",
    "                    koset.add(ko)\n",
    "                    if ko not in koFriends:\n",
    "                        koFriends[ko] = set()\n",
    "                else:\n",
    "                    print('Skipping: ', ko)\n",
    "            \n",
    "            for ko in koset:\n",
    "                koFriends[ko] = koFriends[ko].union(koset)"
   ]
  },
  {
   "cell_type": "code",
   "execution_count": 20,
   "id": "e46d50ce",
   "metadata": {},
   "outputs": [
    {
     "data": {
      "text/plain": [
       "592"
      ]
     },
     "execution_count": 20,
     "metadata": {},
     "output_type": "execute_result"
    }
   ],
   "source": [
    "len(koFriends)"
   ]
  },
  {
   "cell_type": "markdown",
   "id": "8141160a",
   "metadata": {},
   "source": [
    "# Extract orthologs with 1+ Arabidopsis and Ceratopteris gene(s)"
   ]
  },
  {
   "cell_type": "code",
   "execution_count": 21,
   "id": "9d656d4d",
   "metadata": {},
   "outputs": [],
   "source": [
    "ogDict = {}\n",
    "\n",
    "orthofile = '../../../fern_phylogenetics/2_orthofinder/Orthogroups/Orthogroups.txt'\n",
    "\n",
    "fi = open(orthofile)\n",
    "\n",
    "for line in fi:\n",
    "    og, genes = line.rstrip().split(': ')\n",
    "    \n",
    "    genelist = genes.split(' ')\n",
    "    \n",
    "    crilist = []\n",
    "    athlist = []\n",
    "    \n",
    "    for gene in genelist:\n",
    "        geneid = gene.split('_')[0]\n",
    "        species = gene.split('_')[-1]\n",
    "        \n",
    "        if species == 'ath':\n",
    "            #geneid = geneid.split('.')[0]\n",
    "            athlist.append(gene)\n",
    "            #print(og,geneid,species)\n",
    "            \n",
    "        if species == 'cri':\n",
    "            #geneid = 'Ceric.' + geneid.split('.')[1]\n",
    "            crilist.append(gene)\n",
    "            #print(og,geneid,species)\n",
    "            \n",
    "    if len(athlist) > 0 and len(crilist) > 0:\n",
    "        #print(og, len(athlist), len(crilist))\n",
    "        ogDict[og] = [athlist,crilist]\n",
    "\n",
    "fi.close()"
   ]
  },
  {
   "cell_type": "markdown",
   "id": "85e48a0e",
   "metadata": {},
   "source": [
    "# Parse ath-cri relationships from phylogenies"
   ]
  },
  {
   "cell_type": "code",
   "execution_count": 22,
   "id": "147bb06e",
   "metadata": {},
   "outputs": [],
   "source": [
    "koSuperSet = set()\n",
    "\n",
    "for og in ogDict:\n",
    "    ogfile = '../../../fern_phylogenetics/2_orthofinder/Gene_Trees_IQTREE/' + og + '.ntr.tree'\n",
    "    \n",
    "    if os.path.exists(ogfile) == True:\n",
    "        #print(ogfile)\n",
    "        \n",
    "        t = Tree(ogfile, format=1)\n",
    "        \n",
    "        for node in t.get_descendants():\n",
    "            if not node.is_leaf() and node.name[0] != 'n':\n",
    "                #print(node.name)\n",
    "                bs = float(node.name)\n",
    "                if bs < bs_threshold:\n",
    "                    node.delete()\n",
    "\n",
    "        for athgene in ogDict[og][0]:\n",
    "            #print(athgene)\n",
    "            \n",
    "            if athgene.split('.')[0] not in koDict:\n",
    "                continue\n",
    "                \n",
    "            targetko = koDict[athgene.split('.')[0]]\n",
    "            #print(targetko)\n",
    "\n",
    "            if targetko in koFriends:\n",
    "                targetko = koFriends[targetko]\n",
    "            else:\n",
    "                targetko = set([targetko])\n",
    "\n",
    "            #print(targetko)\n",
    "\n",
    "            Q = t.get_leaves_by_name(name=athgene)[0]\n",
    "            #print(Q)\n",
    "\n",
    "            crigenes_fin = set()\n",
    "\n",
    "            for A in Q.iter_ancestors():\n",
    "                #print(A.name)\n",
    "                toofar = 'n'\n",
    "                crigenes = set()\n",
    "\n",
    "                for leaf in A.iter_leaves():\n",
    "                    species = leaf.name.split('_')[-1]\n",
    "                    \n",
    "                    if species == 'ath' and leaf.name != athgene:\n",
    "                        if leaf.name.split('.')[0] in koDict:\n",
    "                            ko = koDict[leaf.name.split('.')[0]]\n",
    "                            #('\\t',leaf.name, species, ko)\n",
    "\n",
    "                            if ko not in targetko:\n",
    "                                toofar = 'y'\n",
    "\n",
    "                    if species == 'cri':\n",
    "                        #print('\\t',leaf.name)\n",
    "                        crigenes.add('Ceric.' + leaf.name.split('.')[1] )\n",
    "\n",
    "                if toofar == 'n':\n",
    "                    crigenes_fin = crigenes_fin.union(crigenes)\n",
    "\n",
    "                if toofar == 'y':\n",
    "                    break\n",
    "\n",
    "            #print('final genes:', crigenes_fin)\n",
    "            for gene in crigenes_fin:\n",
    "                for ko in targetko:\n",
    "                    #print(gene, ko) \n",
    "                    koSuperSet.add((gene, ko))\n",
    "            "
   ]
  },
  {
   "cell_type": "code",
   "execution_count": 23,
   "id": "4ba52c5f",
   "metadata": {},
   "outputs": [
    {
     "data": {
      "text/plain": [
       "8223"
      ]
     },
     "execution_count": 23,
     "metadata": {},
     "output_type": "execute_result"
    }
   ],
   "source": [
    "len(koSuperSet)"
   ]
  },
  {
   "cell_type": "code",
   "execution_count": 24,
   "id": "8034b2a5",
   "metadata": {},
   "outputs": [],
   "source": [
    "outfile = '../../../her7/02_functional_annotations/Ceratopteris_KEGG_annotations_by_phylogeny.txt'\n",
    "\n",
    "fo = open(outfile, 'w')\n",
    "\n",
    "for pair in koSuperSet:\n",
    "    fo.write(pair[0] + '\\t' + pair[1] + '\\n')\n",
    "\n",
    "fo.close()"
   ]
  },
  {
   "cell_type": "markdown",
   "id": "1bbdfc63",
   "metadata": {},
   "source": [
    "https://rest.kegg.jp/get/M00371"
   ]
  }
 ],
 "metadata": {
  "kernelspec": {
   "display_name": "Python (My env.genomics Kernel)",
   "language": "python",
   "name": "env.genomics"
  },
  "language_info": {
   "codemirror_mode": {
    "name": "ipython",
    "version": 3
   },
   "file_extension": ".py",
   "mimetype": "text/x-python",
   "name": "python",
   "nbconvert_exporter": "python",
   "pygments_lexer": "ipython3",
   "version": "3.6.10"
  }
 },
 "nbformat": 4,
 "nbformat_minor": 5
}
