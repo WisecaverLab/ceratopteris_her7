{
 "cells": [
  {
   "cell_type": "code",
   "execution_count": 1,
   "id": "be14b36e",
   "metadata": {},
   "outputs": [],
   "source": [
    "degfiles = ['../../../her7/10_gene_exp/gene_expression_jen_local/10_gene_exp/burow_de_results_her19_v_herm.txt',\n",
    "            '../../../her7/10_gene_exp/gene_expression_jen_local/10_gene_exp/burow_de_results_male_v_her19.txt',\n",
    "            '../../../her7/10_gene_exp/gene_expression_jen_local/10_gene_exp/burow_de_results_male_v_herm.txt']\n",
    "\n",
    "expfile = '../../../her7/10_gene_exp/gene_expression_jen_local/10_gene_exp/burow_combined_kallisto_normalizedcounts_rlog_matrix.txt'\n",
    "catfile = 'gene_categories_v2.txt'\n",
    "txtoutfile = 'gene_expression_supplemental.txt'\n",
    "lfc_threshold = 0.58\n",
    "fdr_threshold = 0.1\n",
    "exp_threshold = 3\n",
    "\n"
   ]
  },
  {
   "cell_type": "code",
   "execution_count": 2,
   "id": "d99d8d42",
   "metadata": {},
   "outputs": [],
   "source": [
    "geneDict = {}\n",
    "\n",
    "fi = open(catfile)\n",
    "for line in fi:\n",
    "    if line[0] == '#':\n",
    "        continue\n",
    "        \n",
    "    #print(line)\n",
    "    cat, color, path, kegg, genes = line.rstrip().split('\\t')\n",
    "    #print(gene)\n",
    "    for gene in genes.split('; '):\n",
    "        #print(gene, cat, path)\n",
    "        geneDict[gene] = [cat, path]\n",
    "\n",
    "fi.close()"
   ]
  },
  {
   "cell_type": "code",
   "execution_count": 3,
   "id": "a206274c",
   "metadata": {},
   "outputs": [],
   "source": [
    "degDict = {}\n",
    "\n",
    "for degfile in degfiles:\n",
    "    comparison = degfile.split('burow_de_results_')[1].split('.txt')[0]\n",
    "    #print(comparison)\n",
    "    degDict[comparison] = {}\n",
    "    \n",
    "    \n",
    "    fi = open(degfile)\n",
    "    \n",
    "    for line in fi:\n",
    "        #print(line)\n",
    "        if line.startswith('baseMean'):\n",
    "            continue\n",
    "        gene, mean, lfc, lfcse, pval, padj = line.rstrip().split('\\t')\n",
    "        if gene in geneDict:\n",
    "            #print(padj)\n",
    "            degDict[comparison][gene] = [mean, lfc, lfcse, pval, padj]\n",
    "    \n",
    "    fi.close()"
   ]
  },
  {
   "cell_type": "code",
   "execution_count": 4,
   "id": "d58e0f3b",
   "metadata": {},
   "outputs": [],
   "source": [
    "fi = open(expfile)\n",
    "expDict = {}\n",
    "\n",
    "for line in fi:\n",
    "    if line[0] == 'F':\n",
    "        continue\n",
    "    col = line.rstrip().split('\\t')\n",
    "    gene = col.pop(0)\n",
    "    normcounts = '\\t'.join(col)\n",
    "    #print(gene, tmps)\n",
    "    \n",
    "    expDict[gene] = normcounts\n",
    "\n",
    "fi.close()"
   ]
  },
  {
   "cell_type": "code",
   "execution_count": 5,
   "id": "9203ea2a",
   "metadata": {},
   "outputs": [],
   "source": [
    "fo = open(txtoutfile, 'w')\n",
    "\n",
    "fo.write('pathway\\tgene family\\tgene\\t')\n",
    "for comparison in degDict:\n",
    "    fo.write(comparison + ' log2FC\\t' + comparison + ' adjusted p-value\\t')\n",
    "fo.write('her19-1\\ther19-2\\ther19-3\\tWT herm-1\\tWT herm-2\\tWT herm-3\\tmale-1\\tmale-2\\tmale-3\\n')\n",
    "\n",
    "\n",
    "for gene in geneDict:\n",
    "    path = geneDict[gene][1]\n",
    "    cat = geneDict[gene][0]\n",
    "    \n",
    "    fo.write(path + '\\t' + cat + '\\t' + gene + '\\t')\n",
    "    \n",
    "    for comparison in degDict:\n",
    "        lfc = degDict[comparison][gene][1]\n",
    "        pval = degDict[comparison][gene][4]\n",
    "        fo.write(lfc + '\\t' + pval + '\\t')\n",
    "        \n",
    "    normcounts = expDict[gene]\n",
    "    fo.write(normcounts + '\\n')\n",
    "\n",
    "fo.close()"
   ]
  },
  {
   "cell_type": "code",
   "execution_count": 6,
   "id": "55d43ab1",
   "metadata": {},
   "outputs": [
    {
     "name": "stdout",
     "output_type": "stream",
     "text": [
      "her19_1\ther19_2\ther19_3\tWTHerm_1\tWTHerm_2\tWTHerm_3\tMale_1\tMale_2\tMale_3\r\n"
     ]
    }
   ],
   "source": [
    "!head -1 {expfile}"
   ]
  },
  {
   "cell_type": "code",
   "execution_count": null,
   "id": "daadf0e6",
   "metadata": {},
   "outputs": [],
   "source": []
  }
 ],
 "metadata": {
  "kernelspec": {
   "display_name": "Python (My env.genomics Kernel)",
   "language": "python",
   "name": "env.genomics"
  },
  "language_info": {
   "codemirror_mode": {
    "name": "ipython",
    "version": 3
   },
   "file_extension": ".py",
   "mimetype": "text/x-python",
   "name": "python",
   "nbconvert_exporter": "python",
   "pygments_lexer": "ipython3",
   "version": "3.6.10"
  }
 },
 "nbformat": 4,
 "nbformat_minor": 5
}
