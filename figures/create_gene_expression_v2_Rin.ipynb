{
 "cells": [
  {
   "cell_type": "code",
   "execution_count": 1,
   "id": "be14b36e",
   "metadata": {},
   "outputs": [],
   "source": [
    "adefile = '../../../her7/10_gene_exp/gene_expression_jen_local/10_gene_exp/burow_de_results_male_v_herm.txt'\n",
    "bdefile = '../../../her7/10_gene_exp/gene_expression_jen_local/10_gene_exp/burow_de_results_male_v_her19.txt'\n",
    "cdefile = '../../../her7/10_gene_exp/gene_expression_jen_local/10_gene_exp/burow_de_results_her19_v_herm.txt'\n",
    "\n",
    "expfile = '../../../her7/10_gene_exp/gene_expression_jen_local/10_gene_exp/burow_combined_kallisto_normalizedcounts_rlog_matrix.txt'\n",
    "catfile = 'gene_categories_v2.txt'\n",
    "outfile = 'gene_expression_v2.Rin'\n",
    "lfc_threshold = 0.58\n",
    "fdr_threshold = 0.1\n",
    "exp_threshold = 3\n",
    "\n"
   ]
  },
  {
   "cell_type": "code",
   "execution_count": 2,
   "id": "6e81a2fd",
   "metadata": {},
   "outputs": [],
   "source": [
    "# Read in log fold change results\n",
    "fi = open(adefile)\n",
    "afcDict = {}\n",
    "\n",
    "for line in fi:\n",
    "    #print(line)\n",
    "    if line.startswith('baseMean'):\n",
    "        continue\n",
    "    col = line.rstrip().split('\\t')\n",
    "    \n",
    "    gene = col[0]\n",
    "    baseMean = float(col[1])\n",
    "\n",
    "    afcDict[gene] = 'not de'\n",
    "\n",
    "    if baseMean < exp_threshold:\n",
    "        afcDict[gene] = 'not expressed'\n",
    "        continue\n",
    "\n",
    "    if col[5] == 'NA':\n",
    "        continue\n",
    "        \n",
    "    logfc = float(col[2])\n",
    "    fdr = float(col[5])\n",
    "    \n",
    "    if fdr < fdr_threshold and abs(logfc) > lfc_threshold:\n",
    "        if logfc > 0:\n",
    "            afcDict[gene] = 'DE up'\n",
    "        elif logfc < 0:\n",
    "            afcDict[gene] = 'DE down'\n",
    "\n",
    "fi.close()"
   ]
  },
  {
   "cell_type": "code",
   "execution_count": 3,
   "id": "5eea9a06",
   "metadata": {},
   "outputs": [],
   "source": [
    "# Read in log fold change results\n",
    "fi = open(bdefile)\n",
    "bfcDict = {}\n",
    "\n",
    "for line in fi:\n",
    "    #print(line)\n",
    "    if line.startswith('baseMean'):\n",
    "        continue\n",
    "    col = line.rstrip().split('\\t')\n",
    "    \n",
    "    gene = col[0]\n",
    "    baseMean = float(col[1])\n",
    "\n",
    "    bfcDict[gene] = 'not de'\n",
    "\n",
    "    if baseMean < exp_threshold:\n",
    "        bfcDict[gene] = 'not expressed'\n",
    "        continue\n",
    "\n",
    "    if col[5] == 'NA':\n",
    "        continue\n",
    "        \n",
    "    logfc = float(col[2])\n",
    "    fdr = float(col[5])\n",
    "    \n",
    "    if fdr < fdr_threshold and abs(logfc) > lfc_threshold:\n",
    "        if logfc > 0:\n",
    "            bfcDict[gene] = 'DE up'\n",
    "        elif logfc < 0:\n",
    "            bfcDict[gene] = 'DE down'\n",
    "\n",
    "fi.close()"
   ]
  },
  {
   "cell_type": "code",
   "execution_count": 4,
   "id": "044afd88",
   "metadata": {},
   "outputs": [],
   "source": [
    "# Read in log fold change results\n",
    "fi = open(cdefile)\n",
    "cfcDict = {}\n",
    "\n",
    "for line in fi:\n",
    "    #print(line)\n",
    "    if line.startswith('baseMean'):\n",
    "        continue\n",
    "    col = line.rstrip().split('\\t')\n",
    "    \n",
    "    gene = col[0]\n",
    "    baseMean = float(col[1])\n",
    "\n",
    "    cfcDict[gene] = 'not de'\n",
    "\n",
    "    if baseMean < exp_threshold:\n",
    "        cfcDict[gene] = 'not expressed'\n",
    "        continue\n",
    "\n",
    "    if col[5] == 'NA':\n",
    "        continue\n",
    "        \n",
    "    logfc = float(col[2])\n",
    "    fdr = float(col[5])\n",
    "    \n",
    "    if fdr < fdr_threshold and abs(logfc) > lfc_threshold:\n",
    "        if logfc > 0:\n",
    "            cfcDict[gene] = 'DE up'\n",
    "        elif logfc < 0:\n",
    "            cfcDict[gene] = 'DE down'\n",
    "\n",
    "fi.close()"
   ]
  },
  {
   "cell_type": "code",
   "execution_count": 5,
   "id": "057a857d",
   "metadata": {},
   "outputs": [
    {
     "data": {
      "text/plain": [
       "'not de'"
      ]
     },
     "execution_count": 5,
     "metadata": {},
     "output_type": "execute_result"
    }
   ],
   "source": [
    "cfcDict['Ceric.1Z203700']"
   ]
  },
  {
   "cell_type": "code",
   "execution_count": 6,
   "id": "d58e0f3b",
   "metadata": {},
   "outputs": [],
   "source": [
    "fi = open(expfile)\n",
    "expDict = {}\n",
    "\n",
    "for line in fi:\n",
    "    if line[0] == 'F':\n",
    "        continue\n",
    "    col = line.rstrip().split('\\t')\n",
    "    gene = col.pop(0)\n",
    "    tmps = '\\t'.join(col)\n",
    "    #print(gene, tmps)\n",
    "    \n",
    "    expDict[gene] = tmps\n",
    "\n",
    "fi.close()"
   ]
  },
  {
   "cell_type": "code",
   "execution_count": 7,
   "id": "a7bbc383",
   "metadata": {},
   "outputs": [
    {
     "data": {
      "text/plain": [
       "'7.01558087266755\\t7.50855578337768\\t8.33041246259862\\t7.25136512950377\\t5.59652490501926\\t6.5277961432347\\t6.9353718830613\\t7.12714435683034\\t6.85524822791241'"
      ]
     },
     "execution_count": 7,
     "metadata": {},
     "output_type": "execute_result"
    }
   ],
   "source": [
    "expDict['Ceric.29G061800']"
   ]
  },
  {
   "cell_type": "code",
   "execution_count": 8,
   "id": "7c41937f",
   "metadata": {},
   "outputs": [
    {
     "name": "stdout",
     "output_type": "stream",
     "text": [
      "her19_1\ther19_2\ther19_3\tWTHerm_1\tWTHerm_2\tWTHerm_3\tMale_1\tMale_2\tMale_3\r\n"
     ]
    }
   ],
   "source": [
    "!head -n1 {expfile}"
   ]
  },
  {
   "cell_type": "code",
   "execution_count": 9,
   "id": "9203ea2a",
   "metadata": {},
   "outputs": [],
   "source": [
    "fi = open(catfile)\n",
    "fo = open(outfile, 'w')\n",
    "\n",
    "fo.write('path\\tgene_family\\tgene\\t')\n",
    "fo.write('her19_1\\ther19_2\\ther19_3\\tWTHerm_1\\tWTHerm_2\\tWTHerm_3\\tMale_1\\tMale_2\\tMale_3\\tmale_v_herm\\tmale_v_her19\\ther19_v_herm\\n')\n",
    "\n",
    "for line in fi:\n",
    "    if line[0] == '#':\n",
    "        continue\n",
    "        \n",
    "    #print(line)\n",
    "    cat, color, path, kegg, genes = line.rstrip().split('\\t')\n",
    "    #print(gene)\n",
    "    for gene in genes.split('; '):\n",
    "        exp = expDict[gene]\n",
    "        ade = afcDict[gene]\n",
    "        bde = bfcDict[gene]\n",
    "        cde = cfcDict[gene]\n",
    "        \n",
    "        fo.write(path + '\\t' + cat + '\\t' + cat + ': ' + gene + '\\t' + exp + '\\t' + ade + '\\t' + bde + '\\t' + cde + '\\n')\n",
    "\n",
    "\n",
    "fi.close()\n",
    "fo.close()"
   ]
  },
  {
   "cell_type": "code",
   "execution_count": null,
   "id": "73488860",
   "metadata": {},
   "outputs": [],
   "source": []
  },
  {
   "cell_type": "code",
   "execution_count": null,
   "id": "8c520cfc",
   "metadata": {},
   "outputs": [],
   "source": []
  }
 ],
 "metadata": {
  "kernelspec": {
   "display_name": "Python (My env.genomics Kernel)",
   "language": "python",
   "name": "env.genomics"
  },
  "language_info": {
   "codemirror_mode": {
    "name": "ipython",
    "version": 3
   },
   "file_extension": ".py",
   "mimetype": "text/x-python",
   "name": "python",
   "nbconvert_exporter": "python",
   "pygments_lexer": "ipython3",
   "version": "3.6.10"
  }
 },
 "nbformat": 4,
 "nbformat_minor": 5
}
