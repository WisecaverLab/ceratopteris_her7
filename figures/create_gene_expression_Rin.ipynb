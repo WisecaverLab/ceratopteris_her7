{
 "cells": [
  {
   "cell_type": "code",
   "execution_count": 10,
   "id": "be14b36e",
   "metadata": {},
   "outputs": [],
   "source": [
    "adefile = '../../../her7/10_gene_exp/atallah_CFM_vs_FM_de_results.txt'\n",
    "gdefile = '../../../her7/10_gene_exp/geng_male_v_her19_de_results.txt'\n",
    "#aexpfile = '../../../her7/10_gene_exp/atallah_kallisto_normalizedcounts_rlog_matrix.txt'\n",
    "#gexpfile = '../../../her7/10_gene_exp/geng_kallisto_normalizedcounts_rlog_matrix.txt'\n",
    "cexpfile = '../../../her7/10_gene_exp/combined_kallisto_normalizedcounts_rlog_matrix.txt'\n",
    "catfile = 'gene_categories.txt'\n",
    "outfile = 'gene_expression.Rin'\n",
    "lfc_threshold = 0\n",
    "fdr_threshold = 0.05"
   ]
  },
  {
   "cell_type": "code",
   "execution_count": 11,
   "id": "6e81a2fd",
   "metadata": {},
   "outputs": [],
   "source": [
    "# Read in log fold change results\n",
    "fi = open(adefile)\n",
    "afcDict = {}\n",
    "\n",
    "for line in fi:\n",
    "    if line[0] == 'b':\n",
    "        continue\n",
    "    col = line.rstrip().split('\\t')\n",
    "    gene = col[0]\n",
    "    afcDict[gene] = 'not de'\n",
    "    \n",
    "    if col[6] == 'NA':\n",
    "        afcDict[gene] = 'not expressed'\n",
    "        continue\n",
    "        \n",
    "    logfc = float(col[2])\n",
    "    fdr = float(col[6])\n",
    "\n",
    "    if fdr < fdr_threshold and abs(logfc) > lfc_threshold:\n",
    "        if logfc > 0:\n",
    "            afcDict[gene] = 'up in Ace+'\n",
    "        elif logfc < 0:\n",
    "            afcDict[gene] = 'up in Ace-'\n",
    "        else:\n",
    "            print('warning this doesnt make sense ', 'logfc threhold: ', lfc_threshold, 'fdr threhold: ', fdr_threshold, line)\n",
    "\n",
    "fi.close()"
   ]
  },
  {
   "cell_type": "code",
   "execution_count": 12,
   "id": "5eea9a06",
   "metadata": {},
   "outputs": [],
   "source": [
    "# Read in log fold change results\n",
    "fi = open(gdefile)\n",
    "gfcDict = {}\n",
    "\n",
    "for line in fi:\n",
    "    if line[0] == 'b':\n",
    "        continue\n",
    "    col = line.rstrip().split('\\t')\n",
    "    gene = col[0]\n",
    "    gfcDict[gene] = 'not de'\n",
    "    \n",
    "    if col[6] == 'NA':\n",
    "        gfcDict[gene] = 'not expressed'\n",
    "        continue\n",
    "        \n",
    "    logfc = float(col[2])\n",
    "    fdr = float(col[6])\n",
    "\n",
    "    if fdr < fdr_threshold and abs(logfc) > lfc_threshold:\n",
    "        if logfc > 0:\n",
    "            gfcDict[gene] = 'up in WT males'\n",
    "        elif logfc < 0:\n",
    "            gfcDict[gene] = 'up in her19 hermaphrodites'\n",
    "        else:\n",
    "            print('warning this doesnt make sense ', 'logfc threhold: ', lfc_threshold, 'fdr threhold: ', fdr_threshold, line)\n",
    "\n",
    "fi.close()"
   ]
  },
  {
   "cell_type": "code",
   "execution_count": 13,
   "id": "057a857d",
   "metadata": {},
   "outputs": [
    {
     "data": {
      "text/plain": [
       "'up in WT males'"
      ]
     },
     "execution_count": 13,
     "metadata": {},
     "output_type": "execute_result"
    }
   ],
   "source": [
    "gfcDict['Ceric.09G062600']"
   ]
  },
  {
   "cell_type": "code",
   "execution_count": 14,
   "id": "370e641f",
   "metadata": {},
   "outputs": [],
   "source": [
    "# fi = open(aexpfile)\n",
    "# aexpDict = {}\n",
    "\n",
    "# for line in fi:\n",
    "#     if line[0] == 'F':\n",
    "#         continue\n",
    "#     col = line.rstrip().split('\\t')\n",
    "#     gene = col.pop(0)\n",
    "#     tmps = '\\t'.join(col)\n",
    "#     #print(gene, tmps)\n",
    "    \n",
    "#     aexpDict[gene] = tmps\n",
    "\n",
    "# fi.close()"
   ]
  },
  {
   "cell_type": "code",
   "execution_count": 15,
   "id": "711ae69b",
   "metadata": {},
   "outputs": [],
   "source": [
    "# fi = open(gexpfile)\n",
    "# gexpDict = {}\n",
    "\n",
    "# for line in fi:\n",
    "#     if line[0] == 'F':\n",
    "#         continue\n",
    "#     col = line.rstrip().split('\\t')\n",
    "#     gene = col.pop(0)\n",
    "#     tmps = '\\t'.join(col)\n",
    "#     #print(gene, tmps)\n",
    "    \n",
    "#     gexpDict[gene] = tmps\n",
    "\n",
    "# fi.close()"
   ]
  },
  {
   "cell_type": "code",
   "execution_count": 16,
   "id": "d58e0f3b",
   "metadata": {},
   "outputs": [],
   "source": [
    "fi = open(cexpfile)\n",
    "cexpDict = {}\n",
    "\n",
    "for line in fi:\n",
    "    if line[0] == 'F':\n",
    "        continue\n",
    "    col = line.rstrip().split('\\t')\n",
    "    gene = col.pop(0)\n",
    "    tmps = '\\t'.join(col)\n",
    "    #print(gene, tmps)\n",
    "    \n",
    "    cexpDict[gene] = tmps\n",
    "\n",
    "fi.close()"
   ]
  },
  {
   "cell_type": "code",
   "execution_count": 17,
   "id": "a7bbc383",
   "metadata": {},
   "outputs": [
    {
     "data": {
      "text/plain": [
       "'3.37510106010595\\t3.27641546446078\\t6.70230125263486\\t7.15767272892038\\t7.64886284442282\\t8.68015998625344\\t8.49054969657478\\t8.64448020303506\\t8.23634452176569\\t8.216759889515\\t8.05678949173703\\t8.06464562905732\\t8.23210950470791\\t8.27739926958846'"
      ]
     },
     "execution_count": 17,
     "metadata": {},
     "output_type": "execute_result"
    }
   ],
   "source": [
    "cexpDict['Ceric.29G061800']"
   ]
  },
  {
   "cell_type": "code",
   "execution_count": 18,
   "id": "7c41937f",
   "metadata": {},
   "outputs": [
    {
     "name": "stdout",
     "output_type": "stream",
     "text": [
      "dry_spores_KE\tdry_spores_AP\tFM_108hnn_1\tFM_108hnn_2\tFM_108hnn_3\tCFM_108hnn_1\tCFM_108hnn_2\tCFM_108hnn_3\tHER19_01\tHER19_02\tHER19_03\tHnn_01\tHnn_02\tHnn_03\r\n"
     ]
    }
   ],
   "source": [
    "!head -n1 {cexpfile}"
   ]
  },
  {
   "cell_type": "markdown",
   "id": "43e6b671",
   "metadata": {},
   "source": [
    "## fi = open(catfile)\n",
    "fo = open(outfile, 'w')\n",
    "\n",
    "fo.write('path\\tgene_family\\tgene\\tspore1\\tspore2\\tFM1\\tFM2\\tFM3\\tACE1\\tACE2\\tACE3\\t')\n",
    "fo.write('her19_1\\ther19_2\\ther19_3\\tmale_1\\tmale_2\\tmale_3\\tDE_ACE_v_FM\\tDE_males_v_her19\\n')\n",
    "\n",
    "for line in fi:\n",
    "    if line[0] == '#':\n",
    "        continue\n",
    "        \n",
    "    #print(line)\n",
    "    cat, color, path, kegg, genes = line.rstrip().split('\\t')\n",
    "    #print(gene)\n",
    "    for gene in genes.split('; '):\n",
    "        cexp = cexpDict[gene]\n",
    "        #aexp = aexpDict[gene]\n",
    "        ade = afcDict[gene]\n",
    "        #gexp = gexpDict[gene]\n",
    "        gde = gfcDict[gene]\n",
    "    \n",
    "        #fo.write(path + '\\t' + cat + '\\t' + gene + '\\t' + aexp + '\\t' + gexp + '\\t' + ade + '\\t' + gde + '\\n')\n",
    "        fo.write(path + '\\t' + cat + '\\t' + gene + '\\t' + cexp + '\\t' + ade + '\\t' + gde + '\\n')\n",
    "\n",
    "\n",
    "fi.close()\n",
    "fo.close()"
   ]
  },
  {
   "cell_type": "code",
   "execution_count": null,
   "id": "73488860",
   "metadata": {},
   "outputs": [],
   "source": []
  },
  {
   "cell_type": "code",
   "execution_count": null,
   "id": "8c520cfc",
   "metadata": {},
   "outputs": [],
   "source": []
  }
 ],
 "metadata": {
  "kernelspec": {
   "display_name": "Python (My env.genomics Kernel)",
   "language": "python",
   "name": "env.genomics"
  },
  "language_info": {
   "codemirror_mode": {
    "name": "ipython",
    "version": 3
   },
   "file_extension": ".py",
   "mimetype": "text/x-python",
   "name": "python",
   "nbconvert_exporter": "python",
   "pygments_lexer": "ipython3",
   "version": "3.6.10"
  }
 },
 "nbformat": 4,
 "nbformat_minor": 5
}
