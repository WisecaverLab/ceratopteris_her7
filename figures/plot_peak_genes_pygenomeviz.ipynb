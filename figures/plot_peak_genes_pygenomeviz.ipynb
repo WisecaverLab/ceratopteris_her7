{
 "cells": [
  {
   "cell_type": "code",
   "execution_count": 2,
   "id": "fc5dca98",
   "metadata": {},
   "outputs": [],
   "source": [
    "from pygenomeviz import GenomeViz"
   ]
  },
  {
   "cell_type": "code",
   "execution_count": 5,
   "id": "924c07a5",
   "metadata": {},
   "outputs": [],
   "source": [
    "gfffile = \"../../../her7/01_genome_reference/Crichardii_676_v2.1.gene.gff3\"\n",
    "min_range = 96000000\n",
    "max_range = 112000000\n",
    "gene_width = 80000\n",
    "target_gene = 'Ceric.29G061800'\n",
    "tstart = 0\n",
    "tend = 0\n",
    "tstrand = ''\n",
    "\n",
    "winsize = max_range - min_range\n",
    "\n",
    "outfile = 'peak_genes_genewidth_' + str(gene_width) + '.pdf'"
   ]
  },
  {
   "cell_type": "code",
   "execution_count": 6,
   "id": "3bd0caf6",
   "metadata": {},
   "outputs": [
    {
     "name": "stdout",
     "output_type": "stream",
     "text": [
      "Ceric.29G061800 7141489 7221489 -1\n"
     ]
    }
   ],
   "source": [
    "fi = open(gfffile)\n",
    "genelist = []\n",
    "\n",
    "for line in fi:\n",
    "    if line[0] == '#':\n",
    "        continue\n",
    "        \n",
    "    col = line.rstrip().split('\\t')\n",
    "    \n",
    "    if col[2] == 'gene':\n",
    "        chrom = col[0]\n",
    "        \n",
    "        if col[0] == 'Chr29':\n",
    "            start = int(col[3])\n",
    "            end = int(col[4])\n",
    "            \n",
    "            if start > min_range and start < max_range:   \n",
    "                strand = 1\n",
    "                if col[6] == '-':\n",
    "                    strand = -1\n",
    "                    start = start - gene_width\n",
    "                else:\n",
    "                    end = end + gene_width\n",
    "                    \n",
    "                start = start - min_range\n",
    "                end = start + gene_width\n",
    "                if end > winsize:\n",
    "                    winsize = end\n",
    "                \n",
    "                gid = col[8].split('=')[-1]\n",
    "                if gid == target_gene:\n",
    "                    print(gid,start,end,strand)\n",
    "                    tstart = start\n",
    "                    tend = end\n",
    "                    tstrand = strand\n",
    "\n",
    "                else:\n",
    "                    genelist.append([start,end,strand])\n",
    "                #print(gid,start,end,strand)\n",
    "            \n",
    "fi.close()"
   ]
  },
  {
   "cell_type": "code",
   "execution_count": 7,
   "id": "a47a7b52",
   "metadata": {},
   "outputs": [
    {
     "data": {
      "text/plain": [
       "77"
      ]
     },
     "execution_count": 7,
     "metadata": {},
     "output_type": "execute_result"
    }
   ],
   "source": [
    "len(genelist)"
   ]
  },
  {
   "cell_type": "code",
   "execution_count": 8,
   "id": "af7cc080",
   "metadata": {},
   "outputs": [],
   "source": [
    "#https://moshi4.github.io/pyGenomeViz/getting_started/\n",
    "    \n",
    "name, genome_size = \"her14 her19 peak\", winsize\n",
    "\n",
    "gv = GenomeViz()\n",
    "track = gv.add_feature_track(name, genome_size)\n",
    "for gene in genelist:\n",
    "    start, end, strand = gene\n",
    "    track.add_feature(start, end, strand, plotstyle=\"arrow\", arrow_shaft_ratio=1.0, linewidth=0, facecolor=\"black\")\n",
    "\n",
    "track.add_feature(tstart, tend, tstrand, plotstyle=\"arrow\", arrow_shaft_ratio=1.0, linewidth=0, facecolor=\"black\", label='HER7')\n",
    "\n",
    "gv.savefig(outfile)"
   ]
  },
  {
   "cell_type": "code",
   "execution_count": null,
   "id": "283f775d",
   "metadata": {},
   "outputs": [],
   "source": []
  },
  {
   "cell_type": "code",
   "execution_count": null,
   "id": "ab077fc4",
   "metadata": {},
   "outputs": [],
   "source": []
  }
 ],
 "metadata": {
  "kernelspec": {
   "display_name": "Python (My pygenviz Kernel)",
   "language": "python",
   "name": "pygenviz"
  },
  "language_info": {
   "codemirror_mode": {
    "name": "ipython",
    "version": 3
   },
   "file_extension": ".py",
   "mimetype": "text/x-python",
   "name": "python",
   "nbconvert_exporter": "python",
   "pygments_lexer": "ipython3",
   "version": "3.8.5"
  }
 },
 "nbformat": 4,
 "nbformat_minor": 5
}
