{
 "cells": [
  {
   "cell_type": "code",
   "execution_count": 1,
   "id": "116bc394",
   "metadata": {},
   "outputs": [],
   "source": [
    "import gzip"
   ]
  },
  {
   "cell_type": "code",
   "execution_count": 2,
   "id": "207de35a",
   "metadata": {},
   "outputs": [],
   "source": [
    "N8_file = '../../../bsa_by_rnaseq/04_snp_calling/05_VariantFiltering/ref_snps_intersect/N8Ref_only_chr_only_filtered.vcf.gz'\n",
    "sampleList = ['her14He','her14Ma','her19He','her19Ma']\n",
    "outfile = '../../../bsa_by_rnaseq/05_mapping/allele_readdepth.txt'"
   ]
  },
  {
   "cell_type": "code",
   "execution_count": 3,
   "id": "4d4f5464",
   "metadata": {},
   "outputs": [],
   "source": [
    "# store N8 snp calls\n",
    "\n",
    "snpDict = {}\n",
    "\n",
    "fi = gzip.open(N8_file, 'rt')\n",
    "\n",
    "for line in fi:\n",
    "    #print(line)\n",
    "    \n",
    "    if line[0] == '#': \n",
    "        continue\n",
    "        \n",
    "    col = line.rstrip().split('\\t')\n",
    "    chrom = col[0]\n",
    "    pos = col[1]\n",
    "    ref = col[3]\n",
    "    alt = col[4]\n",
    "    \n",
    "    snpDict[(chrom, pos)] = [ref, alt]\n",
    "    #print(chrom, pos, ref, alt)\n",
    "\n",
    "fi.close()"
   ]
  },
  {
   "cell_type": "code",
   "execution_count": 4,
   "id": "89574c43",
   "metadata": {},
   "outputs": [
    {
     "data": {
      "text/plain": [
       "46732"
      ]
     },
     "execution_count": 4,
     "metadata": {},
     "output_type": "execute_result"
    }
   ],
   "source": [
    "len(snpDict)"
   ]
  },
  {
   "cell_type": "code",
   "execution_count": 5,
   "id": "dd0e9eba",
   "metadata": {},
   "outputs": [],
   "source": [
    "sampleDict = {}\n",
    "\n",
    "for sample in sampleList:\n",
    "    \n",
    "    sample_file = '../../../bsa_by_rnaseq/05_mapping/' + sample + '_HaplotypeCaller_all_sites.g.vcf.gz'\n",
    "    sampleDict[sample] = {}\n",
    "    #!ls {sample_file}\n",
    "    \n",
    "    fi = gzip.open(sample_file, 'rt')\n",
    "\n",
    "    for line in fi:\n",
    "        #print(line)\n",
    "\n",
    "        if line[0] == '#': \n",
    "            continue\n",
    "\n",
    "        col = line.rstrip().split('\\t')\n",
    "        chrom = col[0]\n",
    "        pos = col[1]\n",
    "        ref = col[3]\n",
    "        alt = col[4]\n",
    "\n",
    "        genotype = col[9].split(':')[0]\n",
    "        allele_depth = col[9].split(':')[1]\n",
    "\n",
    "        if (chrom, pos) in snpDict:\n",
    "\n",
    "            ref_depth = 0\n",
    "            alt_dept = 0\n",
    "\n",
    "            if genotype == '0/0':\n",
    "                if ref == snpDict[(chrom, pos)][0] and alt == '.':\n",
    "                    #print(chrom, pos, ref, alt, genotype, allele_depth)\n",
    "                    ref_depth = int(allele_depth)\n",
    "                else:\n",
    "                    #print(chrom, pos, ref, alt, genotype, allele_depth)\n",
    "                    continue\n",
    "\n",
    "            elif genotype == '0/1' or genotype == '1/1':\n",
    "                if ref == snpDict[(chrom, pos)][0] and alt == snpDict[(chrom, pos)][1]:\n",
    "                    #print(chrom, pos, ref, alt, genotype, allele_depth)\n",
    "                    ref_depth = int(allele_depth.split(',')[0])\n",
    "                    alt_depth = int(allele_depth.split(',')[1])\n",
    "                else:\n",
    "                    #print(line)\n",
    "                    continue\n",
    "\n",
    "            else:\n",
    "                #print(chrom, pos, ref, alt, genotype, allele_depth)\n",
    "                continue\n",
    "\n",
    "            total_depth = ref_depth + alt_depth\n",
    "            if total_depth >= 1:\n",
    "            #if ref_depth > 0 or alt_depth > 0:\n",
    "                sampleDict[sample][(chrom, pos)] = [ref_depth, alt_depth]\n",
    "            #print(chrom, pos, ref, alt, genotype, allele_depth, ref_depth, alt_depth)\n",
    "\n",
    "    fi.close()"
   ]
  },
  {
   "cell_type": "code",
   "execution_count": 6,
   "id": "40668b2c",
   "metadata": {},
   "outputs": [
    {
     "name": "stdout",
     "output_type": "stream",
     "text": [
      "her14He 40380\n",
      "her14Ma 44503\n",
      "her19He 38389\n",
      "her19Ma 42246\n"
     ]
    }
   ],
   "source": [
    "# number of SNVs per sample if total_depth >=1\n",
    "for sample in sampleDict:\n",
    "    print(sample, len(sampleDict[sample]))"
   ]
  },
  {
   "cell_type": "code",
   "execution_count": 7,
   "id": "f074407b",
   "metadata": {},
   "outputs": [],
   "source": [
    "fo = open(outfile, 'w')\n",
    "\n",
    "fo.write('#chrom\\tpos\\tref\\talt')\n",
    "\n",
    "for sample in sampleDict:\n",
    "    fo.write('\\t' + sample + '_ref_depth\\t' + sample + '_alt_depth')\n",
    "fo.write('\\n')\n",
    "\n",
    "for snpid in snpDict:\n",
    "    fo.write(snpid[0] + '\\t' + snpid[1] + '\\t' + snpDict[snpid][0] + '\\t' + snpDict[snpid][1])\n",
    "\n",
    "    for sample in sampleDict:\n",
    "        if snpid in sampleDict[sample]:\n",
    "            fo.write('\\t' + str(sampleDict[sample][snpid][0]) + '\\t' + str(sampleDict[sample][snpid][1]))\n",
    "        else:\n",
    "            fo.write('\\t0\\t0')\n",
    "    fo.write('\\n')\n",
    "    \n",
    "fo.close()"
   ]
  },
  {
   "cell_type": "code",
   "execution_count": null,
   "id": "286a358a",
   "metadata": {},
   "outputs": [],
   "source": []
  }
 ],
 "metadata": {
  "kernelspec": {
   "display_name": "Python (My env.genomics Kernel)",
   "language": "python",
   "name": "env.genomics"
  },
  "language_info": {
   "codemirror_mode": {
    "name": "ipython",
    "version": 3
   },
   "file_extension": ".py",
   "mimetype": "text/x-python",
   "name": "python",
   "nbconvert_exporter": "python",
   "pygments_lexer": "ipython3",
   "version": "3.6.10"
  }
 },
 "nbformat": 4,
 "nbformat_minor": 5
}
